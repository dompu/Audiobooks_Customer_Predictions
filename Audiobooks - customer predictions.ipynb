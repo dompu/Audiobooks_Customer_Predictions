{
 "cells": [
  {
   "cell_type": "code",
   "execution_count": 1,
   "metadata": {},
   "outputs": [],
   "source": [
    "import numpy as np\n",
    "import tensorflow as tf\n",
    "from sklearn import preprocessing"
   ]
  },
  {
   "cell_type": "code",
   "execution_count": 2,
   "metadata": {},
   "outputs": [],
   "source": [
    "raw_csv_data = np.loadtxt('Audiobooks_data.csv',delimiter=',')\n",
    "unscaled_inputs_all = raw_csv_data[:, 1:-1]\n",
    "targets_all = raw_csv_data[:,-1]"
   ]
  },
  {
   "cell_type": "markdown",
   "metadata": {},
   "source": [
    "# Balance the dataset"
   ]
  },
  {
   "cell_type": "code",
   "execution_count": 3,
   "metadata": {},
   "outputs": [],
   "source": [
    "num_one_targets = int(np.sum(targets_all))\n",
    "zero_targets_counter = 0\n",
    "indices_to_remove = []\n",
    "\n",
    "for i in range(targets_all.shape[0]):\n",
    "    if targets_all[i] == 0:\n",
    "        zero_targets_counter += 1\n",
    "        if zero_targets_counter > num_one_targets:\n",
    "            indices_to_remove.append(i)\n",
    "            \n",
    "unscaled_inputs_equal_priors = np.delete(unscaled_inputs_all, indices_to_remove, axis=0)\n",
    "targets_equal_priors = np.delete(targets_all, indices_to_remove, axis=0)"
   ]
  },
  {
   "cell_type": "markdown",
   "metadata": {},
   "source": [
    "## Standardize the inputs"
   ]
  },
  {
   "cell_type": "code",
   "execution_count": 4,
   "metadata": {},
   "outputs": [],
   "source": [
    "scaled_inputs = preprocessing.scale(unscaled_inputs_equal_priors)"
   ]
  },
  {
   "cell_type": "markdown",
   "metadata": {},
   "source": [
    "## Shuffle the data"
   ]
  },
  {
   "cell_type": "code",
   "execution_count": 5,
   "metadata": {},
   "outputs": [],
   "source": [
    "shuffled_indices = np.arange(scaled_inputs.shape[0])\n",
    "np.random.shuffle(shuffled_indices)\n",
    "\n",
    "shuffled_inputs = scaled_inputs[shuffled_indices]\n",
    "shuffled_targets = targets_equal_priors[shuffled_indices]"
   ]
  },
  {
   "cell_type": "markdown",
   "metadata": {},
   "source": [
    "## Split the data into train, validation, test"
   ]
  },
  {
   "cell_type": "code",
   "execution_count": 6,
   "metadata": {},
   "outputs": [
    {
     "name": "stdout",
     "output_type": "stream",
     "text": [
      "1790.0 3579 0.5001397038278849\n",
      "217.0 447 0.4854586129753915\n",
      "230.0 448 0.5133928571428571\n"
     ]
    }
   ],
   "source": [
    "samples_count = shuffled_inputs.shape[0]\n",
    "\n",
    "train_samples_count = int(0.8*samples_count)\n",
    "validation_samples_count = int(0.1*samples_count)\n",
    "test_samples_count = samples_count - train_samples_count - validation_samples_count\n",
    "\n",
    "train_inputs = shuffled_inputs[:train_samples_count]\n",
    "train_targets = shuffled_targets[:train_samples_count]\n",
    "\n",
    "validation_inputs = shuffled_inputs[train_samples_count:train_samples_count+validation_samples_count]\n",
    "validation_targets = shuffled_targets[train_samples_count:train_samples_count+validation_samples_count]\n",
    "\n",
    "test_inputs = shuffled_inputs[train_samples_count+validation_samples_count:]\n",
    "test_targets = shuffled_targets[train_samples_count+validation_samples_count:]\n",
    "\n",
    "\n",
    "print(np.sum(train_targets), train_samples_count, np.sum(train_targets) / train_samples_count)\n",
    "print(np.sum(validation_targets), validation_samples_count, np.sum(validation_targets) / validation_samples_count)\n",
    "print(np.sum(test_targets), test_samples_count, np.sum(test_targets) / test_samples_count)"
   ]
  },
  {
   "cell_type": "markdown",
   "metadata": {},
   "source": [
    "## Save the three datasets in *.npz"
   ]
  },
  {
   "cell_type": "code",
   "execution_count": 7,
   "metadata": {},
   "outputs": [],
   "source": [
    "np.savez('Audiobook_data_train', inputs= train_inputs, targets= train_targets)\n",
    "np.savez('Audiobook_data_validation', inputs= validation_inputs, targets= validation_targets)\n",
    "np.savez('Audiobook_data_test', inputs= train_inputs, targets= train_targets)"
   ]
  },
  {
   "cell_type": "markdown",
   "metadata": {},
   "source": [
    "## Create the machine learning algorithm"
   ]
  },
  {
   "cell_type": "code",
   "execution_count": 8,
   "metadata": {},
   "outputs": [],
   "source": [
    "npz = np.load('Audiobook_data_train.npz')\n",
    "\n",
    "train_inputs = npz['inputs'].astype(np.float)\n",
    "train_targets = npz['targets'].astype(np.int)\n",
    "\n",
    "npz = np.load('Audiobook_data_validation.npz')\n",
    "\n",
    "validation_inputs, validation_targets = npz['inputs'].astype(np.float), npz['targets'].astype(np.int)\n",
    "\n",
    "npz = np.load('Audiobook_data_test.npz')\n",
    "\n",
    "test_inputs, test_targets = npz['inputs'].astype(np.float), npz['targets'].astype(np.int)"
   ]
  },
  {
   "cell_type": "markdown",
   "metadata": {},
   "source": [
    "## Model"
   ]
  },
  {
   "cell_type": "code",
   "execution_count": 10,
   "metadata": {},
   "outputs": [
    {
     "name": "stdout",
     "output_type": "stream",
     "text": [
      "Epoch 1/100\n",
      "36/36 - 0s - loss: 0.5631 - accuracy: 0.7835 - val_loss: 0.4468 - val_accuracy: 0.8568\n",
      "Epoch 2/100\n",
      "36/36 - 0s - loss: 0.3860 - accuracy: 0.8740 - val_loss: 0.3465 - val_accuracy: 0.8658\n",
      "Epoch 3/100\n",
      "36/36 - 0s - loss: 0.3278 - accuracy: 0.8824 - val_loss: 0.3191 - val_accuracy: 0.8747\n",
      "Epoch 4/100\n",
      "36/36 - 0s - loss: 0.3044 - accuracy: 0.8885 - val_loss: 0.3056 - val_accuracy: 0.8747\n",
      "Epoch 5/100\n",
      "36/36 - 0s - loss: 0.2894 - accuracy: 0.8921 - val_loss: 0.2947 - val_accuracy: 0.8792\n",
      "Epoch 6/100\n",
      "36/36 - 0s - loss: 0.2802 - accuracy: 0.8963 - val_loss: 0.2861 - val_accuracy: 0.8926\n",
      "Epoch 7/100\n",
      "36/36 - 0s - loss: 0.2706 - accuracy: 0.9016 - val_loss: 0.2778 - val_accuracy: 0.8904\n",
      "Epoch 8/100\n",
      "36/36 - 0s - loss: 0.2643 - accuracy: 0.9016 - val_loss: 0.2741 - val_accuracy: 0.8926\n",
      "Epoch 9/100\n",
      "36/36 - 0s - loss: 0.2571 - accuracy: 0.9047 - val_loss: 0.2717 - val_accuracy: 0.8926\n",
      "Epoch 10/100\n",
      "36/36 - 0s - loss: 0.2528 - accuracy: 0.9058 - val_loss: 0.2742 - val_accuracy: 0.8926\n",
      "Epoch 11/100\n",
      "36/36 - 0s - loss: 0.2511 - accuracy: 0.9067 - val_loss: 0.2704 - val_accuracy: 0.8949\n",
      "Epoch 12/100\n",
      "36/36 - 0s - loss: 0.2476 - accuracy: 0.9075 - val_loss: 0.2650 - val_accuracy: 0.8904\n",
      "Epoch 13/100\n",
      "36/36 - 0s - loss: 0.2446 - accuracy: 0.9084 - val_loss: 0.2607 - val_accuracy: 0.8926\n",
      "Epoch 14/100\n",
      "36/36 - 0s - loss: 0.2438 - accuracy: 0.9086 - val_loss: 0.2608 - val_accuracy: 0.8949\n",
      "Epoch 15/100\n",
      "36/36 - 0s - loss: 0.2403 - accuracy: 0.9103 - val_loss: 0.2618 - val_accuracy: 0.8949\n",
      "Epoch 16/100\n",
      "36/36 - 0s - loss: 0.2363 - accuracy: 0.9123 - val_loss: 0.2620 - val_accuracy: 0.8904\n",
      "Epoch 17/100\n",
      "36/36 - 0s - loss: 0.2370 - accuracy: 0.9131 - val_loss: 0.2568 - val_accuracy: 0.8926\n",
      "Epoch 18/100\n",
      "36/36 - 0s - loss: 0.2336 - accuracy: 0.9137 - val_loss: 0.2560 - val_accuracy: 0.8949\n",
      "Epoch 19/100\n",
      "36/36 - 0s - loss: 0.2331 - accuracy: 0.9153 - val_loss: 0.2580 - val_accuracy: 0.8949\n",
      "Epoch 20/100\n",
      "36/36 - 0s - loss: 0.2330 - accuracy: 0.9139 - val_loss: 0.2584 - val_accuracy: 0.8949\n",
      "Epoch 21/100\n",
      "36/36 - 0s - loss: 0.2310 - accuracy: 0.9153 - val_loss: 0.2540 - val_accuracy: 0.8949\n",
      "Epoch 22/100\n",
      "36/36 - 0s - loss: 0.2295 - accuracy: 0.9173 - val_loss: 0.2523 - val_accuracy: 0.8949\n",
      "Epoch 23/100\n",
      "36/36 - 0s - loss: 0.2299 - accuracy: 0.9179 - val_loss: 0.2540 - val_accuracy: 0.8971\n",
      "Epoch 24/100\n",
      "36/36 - 0s - loss: 0.2280 - accuracy: 0.9176 - val_loss: 0.2526 - val_accuracy: 0.8971\n",
      "Epoch 25/100\n",
      "36/36 - 0s - loss: 0.2264 - accuracy: 0.9167 - val_loss: 0.2523 - val_accuracy: 0.8949\n",
      "Epoch 26/100\n",
      "36/36 - 0s - loss: 0.2246 - accuracy: 0.9181 - val_loss: 0.2525 - val_accuracy: 0.8971\n",
      "Epoch 27/100\n",
      "36/36 - 0s - loss: 0.2248 - accuracy: 0.9181 - val_loss: 0.2601 - val_accuracy: 0.9016\n",
      "Epoch 28/100\n",
      "36/36 - 0s - loss: 0.2241 - accuracy: 0.9190 - val_loss: 0.2537 - val_accuracy: 0.8971\n",
      "Epoch 29/100\n",
      "36/36 - 0s - loss: 0.2231 - accuracy: 0.9173 - val_loss: 0.2530 - val_accuracy: 0.8993\n",
      "Epoch 30/100\n",
      "36/36 - 0s - loss: 0.2216 - accuracy: 0.9173 - val_loss: 0.2511 - val_accuracy: 0.8971\n",
      "Epoch 31/100\n",
      "36/36 - 0s - loss: 0.2242 - accuracy: 0.9176 - val_loss: 0.2521 - val_accuracy: 0.9038\n",
      "Epoch 32/100\n",
      "36/36 - 0s - loss: 0.2238 - accuracy: 0.9187 - val_loss: 0.2512 - val_accuracy: 0.9038\n",
      "Epoch 33/100\n",
      "36/36 - 0s - loss: 0.2203 - accuracy: 0.9190 - val_loss: 0.2526 - val_accuracy: 0.8971\n",
      "Epoch 34/100\n",
      "36/36 - 0s - loss: 0.2205 - accuracy: 0.9201 - val_loss: 0.2504 - val_accuracy: 0.8993\n",
      "Epoch 35/100\n",
      "36/36 - 0s - loss: 0.2205 - accuracy: 0.9181 - val_loss: 0.2514 - val_accuracy: 0.8993\n",
      "Epoch 36/100\n",
      "36/36 - 0s - loss: 0.2172 - accuracy: 0.9209 - val_loss: 0.2527 - val_accuracy: 0.9038\n",
      "Epoch 37/100\n",
      "36/36 - 0s - loss: 0.2163 - accuracy: 0.9193 - val_loss: 0.2535 - val_accuracy: 0.8949\n",
      "Epoch 38/100\n",
      "36/36 - 0s - loss: 0.2184 - accuracy: 0.9195 - val_loss: 0.2530 - val_accuracy: 0.9038\n",
      "Epoch 39/100\n",
      "36/36 - 0s - loss: 0.2186 - accuracy: 0.9184 - val_loss: 0.2549 - val_accuracy: 0.8993\n",
      "Epoch 40/100\n",
      "36/36 - 0s - loss: 0.2159 - accuracy: 0.9209 - val_loss: 0.2515 - val_accuracy: 0.9038\n",
      "Epoch 41/100\n",
      "36/36 - 0s - loss: 0.2162 - accuracy: 0.9195 - val_loss: 0.2562 - val_accuracy: 0.8949\n",
      "Epoch 42/100\n",
      "36/36 - 0s - loss: 0.2164 - accuracy: 0.9206 - val_loss: 0.2518 - val_accuracy: 0.8993\n",
      "Epoch 43/100\n",
      "36/36 - 0s - loss: 0.2160 - accuracy: 0.9206 - val_loss: 0.2619 - val_accuracy: 0.9060\n",
      "Epoch 44/100\n",
      "36/36 - 0s - loss: 0.2182 - accuracy: 0.9215 - val_loss: 0.2540 - val_accuracy: 0.8993\n",
      "Epoch 45/100\n",
      "36/36 - 0s - loss: 0.2156 - accuracy: 0.9209 - val_loss: 0.2529 - val_accuracy: 0.9016\n",
      "Epoch 46/100\n",
      "36/36 - 0s - loss: 0.2158 - accuracy: 0.9212 - val_loss: 0.2550 - val_accuracy: 0.9016\n",
      "Epoch 47/100\n",
      "36/36 - 0s - loss: 0.2151 - accuracy: 0.9212 - val_loss: 0.2594 - val_accuracy: 0.8949\n",
      "Epoch 48/100\n",
      "36/36 - 0s - loss: 0.2147 - accuracy: 0.9204 - val_loss: 0.2580 - val_accuracy: 0.9060\n",
      "Epoch 49/100\n",
      "36/36 - 0s - loss: 0.2168 - accuracy: 0.9212 - val_loss: 0.2512 - val_accuracy: 0.9016\n",
      "Epoch 50/100\n",
      "36/36 - 0s - loss: 0.2146 - accuracy: 0.9223 - val_loss: 0.2529 - val_accuracy: 0.8993\n",
      "Epoch 51/100\n",
      "36/36 - 0s - loss: 0.2130 - accuracy: 0.9215 - val_loss: 0.2518 - val_accuracy: 0.9038\n",
      "Epoch 52/100\n",
      "36/36 - 0s - loss: 0.2124 - accuracy: 0.9223 - val_loss: 0.2469 - val_accuracy: 0.9038\n",
      "Epoch 53/100\n",
      "36/36 - 0s - loss: 0.2130 - accuracy: 0.9218 - val_loss: 0.2527 - val_accuracy: 0.9038\n",
      "Epoch 54/100\n",
      "36/36 - 0s - loss: 0.2177 - accuracy: 0.9184 - val_loss: 0.2507 - val_accuracy: 0.9016\n",
      "Epoch 55/100\n",
      "36/36 - 0s - loss: 0.2140 - accuracy: 0.9220 - val_loss: 0.2485 - val_accuracy: 0.9016\n",
      "Epoch 56/100\n",
      "36/36 - 0s - loss: 0.2117 - accuracy: 0.9223 - val_loss: 0.2463 - val_accuracy: 0.9038\n",
      "Epoch 57/100\n",
      "36/36 - 0s - loss: 0.2123 - accuracy: 0.9220 - val_loss: 0.2480 - val_accuracy: 0.9038\n",
      "Epoch 58/100\n",
      "36/36 - 0s - loss: 0.2109 - accuracy: 0.9232 - val_loss: 0.2488 - val_accuracy: 0.9016\n",
      "Epoch 59/100\n",
      "36/36 - 0s - loss: 0.2107 - accuracy: 0.9223 - val_loss: 0.2459 - val_accuracy: 0.9083\n",
      "Epoch 60/100\n",
      "36/36 - 0s - loss: 0.2127 - accuracy: 0.9209 - val_loss: 0.2561 - val_accuracy: 0.8993\n",
      "Epoch 61/100\n",
      "36/36 - 0s - loss: 0.2118 - accuracy: 0.9209 - val_loss: 0.2441 - val_accuracy: 0.9083\n",
      "Epoch 62/100\n",
      "36/36 - 0s - loss: 0.2139 - accuracy: 0.9223 - val_loss: 0.2470 - val_accuracy: 0.9038\n",
      "Epoch 63/100\n",
      "36/36 - 0s - loss: 0.2119 - accuracy: 0.9229 - val_loss: 0.2552 - val_accuracy: 0.9016\n",
      "Epoch 64/100\n",
      "36/36 - 0s - loss: 0.2104 - accuracy: 0.9220 - val_loss: 0.2552 - val_accuracy: 0.9016\n",
      "Epoch 65/100\n",
      "36/36 - 0s - loss: 0.2109 - accuracy: 0.9223 - val_loss: 0.2540 - val_accuracy: 0.8971\n",
      "Epoch 66/100\n",
      "36/36 - 0s - loss: 0.2172 - accuracy: 0.9212 - val_loss: 0.2467 - val_accuracy: 0.9060\n",
      "Epoch 67/100\n",
      "36/36 - 0s - loss: 0.2068 - accuracy: 0.9218 - val_loss: 0.2577 - val_accuracy: 0.9083\n",
      "Epoch 68/100\n",
      "36/36 - 0s - loss: 0.2099 - accuracy: 0.9229 - val_loss: 0.2533 - val_accuracy: 0.9016\n",
      "Epoch 69/100\n",
      "36/36 - 0s - loss: 0.2084 - accuracy: 0.9223 - val_loss: 0.2510 - val_accuracy: 0.9016\n",
      "Epoch 70/100\n",
      "36/36 - 0s - loss: 0.2110 - accuracy: 0.9226 - val_loss: 0.2518 - val_accuracy: 0.9060\n",
      "Epoch 71/100\n",
      "36/36 - 0s - loss: 0.2081 - accuracy: 0.9237 - val_loss: 0.2555 - val_accuracy: 0.9060\n",
      "Epoch 72/100\n",
      "36/36 - 0s - loss: 0.2076 - accuracy: 0.9237 - val_loss: 0.2483 - val_accuracy: 0.9105\n",
      "Epoch 73/100\n",
      "36/36 - 0s - loss: 0.2091 - accuracy: 0.9240 - val_loss: 0.2504 - val_accuracy: 0.9038\n",
      "Epoch 74/100\n",
      "36/36 - 0s - loss: 0.2094 - accuracy: 0.9226 - val_loss: 0.2508 - val_accuracy: 0.9016\n",
      "Epoch 75/100\n",
      "36/36 - 0s - loss: 0.2102 - accuracy: 0.9246 - val_loss: 0.2519 - val_accuracy: 0.9016\n",
      "Epoch 76/100\n",
      "36/36 - 0s - loss: 0.2137 - accuracy: 0.9201 - val_loss: 0.2471 - val_accuracy: 0.9105\n",
      "Epoch 77/100\n",
      "36/36 - 0s - loss: 0.2113 - accuracy: 0.9212 - val_loss: 0.2535 - val_accuracy: 0.9038\n",
      "Epoch 78/100\n",
      "36/36 - 0s - loss: 0.2088 - accuracy: 0.9223 - val_loss: 0.2492 - val_accuracy: 0.9060\n",
      "Epoch 79/100\n",
      "36/36 - 0s - loss: 0.2064 - accuracy: 0.9229 - val_loss: 0.2533 - val_accuracy: 0.9060\n",
      "Epoch 80/100\n",
      "36/36 - 0s - loss: 0.2066 - accuracy: 0.9243 - val_loss: 0.2484 - val_accuracy: 0.9060\n",
      "Epoch 81/100\n",
      "36/36 - 0s - loss: 0.2082 - accuracy: 0.9237 - val_loss: 0.2484 - val_accuracy: 0.9016\n",
      "Epoch 82/100\n",
      "36/36 - 0s - loss: 0.2049 - accuracy: 0.9226 - val_loss: 0.2546 - val_accuracy: 0.9060\n",
      "Epoch 83/100\n",
      "36/36 - 0s - loss: 0.2094 - accuracy: 0.9232 - val_loss: 0.2501 - val_accuracy: 0.9060\n",
      "Epoch 84/100\n",
      "36/36 - 0s - loss: 0.2068 - accuracy: 0.9229 - val_loss: 0.2468 - val_accuracy: 0.9083\n",
      "Epoch 85/100\n",
      "36/36 - 0s - loss: 0.2072 - accuracy: 0.9234 - val_loss: 0.2504 - val_accuracy: 0.9083\n",
      "Epoch 86/100\n",
      "36/36 - 0s - loss: 0.2043 - accuracy: 0.9240 - val_loss: 0.2524 - val_accuracy: 0.9083\n",
      "Epoch 87/100\n",
      "36/36 - 0s - loss: 0.2067 - accuracy: 0.9240 - val_loss: 0.2507 - val_accuracy: 0.9038\n",
      "Epoch 88/100\n",
      "36/36 - 0s - loss: 0.2038 - accuracy: 0.9229 - val_loss: 0.2510 - val_accuracy: 0.9083\n",
      "Epoch 89/100\n",
      "36/36 - 0s - loss: 0.2042 - accuracy: 0.9232 - val_loss: 0.2519 - val_accuracy: 0.9060\n",
      "Epoch 90/100\n",
      "36/36 - 0s - loss: 0.2037 - accuracy: 0.9243 - val_loss: 0.2494 - val_accuracy: 0.9060\n",
      "Epoch 91/100\n",
      "36/36 - 0s - loss: 0.2070 - accuracy: 0.9234 - val_loss: 0.2530 - val_accuracy: 0.9038\n",
      "Epoch 92/100\n",
      "36/36 - 0s - loss: 0.2056 - accuracy: 0.9232 - val_loss: 0.2509 - val_accuracy: 0.9060\n",
      "Epoch 93/100\n",
      "36/36 - 0s - loss: 0.2047 - accuracy: 0.9254 - val_loss: 0.2480 - val_accuracy: 0.9060\n",
      "Epoch 94/100\n",
      "36/36 - 0s - loss: 0.2054 - accuracy: 0.9234 - val_loss: 0.2460 - val_accuracy: 0.9060\n",
      "Epoch 95/100\n",
      "36/36 - 0s - loss: 0.2118 - accuracy: 0.9229 - val_loss: 0.2576 - val_accuracy: 0.9105\n",
      "Epoch 96/100\n",
      "36/36 - 0s - loss: 0.2049 - accuracy: 0.9232 - val_loss: 0.2453 - val_accuracy: 0.9060\n",
      "Epoch 97/100\n",
      "36/36 - 0s - loss: 0.2034 - accuracy: 0.9240 - val_loss: 0.2583 - val_accuracy: 0.9038\n",
      "Epoch 98/100\n",
      "36/36 - 0s - loss: 0.2041 - accuracy: 0.9243 - val_loss: 0.2477 - val_accuracy: 0.9060\n",
      "Epoch 99/100\n",
      "36/36 - 0s - loss: 0.2035 - accuracy: 0.9246 - val_loss: 0.2458 - val_accuracy: 0.9060\n",
      "Epoch 100/100\n",
      "36/36 - 0s - loss: 0.2030 - accuracy: 0.9265 - val_loss: 0.2499 - val_accuracy: 0.9060\n"
     ]
    },
    {
     "data": {
      "text/plain": [
       "<tensorflow.python.keras.callbacks.History at 0x1a3463cbd0>"
      ]
     },
     "execution_count": 10,
     "metadata": {},
     "output_type": "execute_result"
    }
   ],
   "source": [
    "input_size = 10\n",
    "output_size = 2\n",
    "hidden_layer_size = 50\n",
    "\n",
    "model = tf.keras.Sequential([\n",
    "    tf.keras.layers.Dense(hidden_layer_size, activation='relu'),\n",
    "    tf.keras.layers.Dense(hidden_layer_size, activation='relu'),\n",
    "    tf.keras.layers.Dense(output_size, activation='softmax')\n",
    "])\n",
    "\n",
    "model.compile(optimizer='adam', loss='sparse_categorical_crossentropy', metrics=['accuracy'])\n",
    "\n",
    "batch_size = 100\n",
    "max_epochs = 100\n",
    "\n",
    "model.fit(train_inputs, # train inputs\n",
    "          train_targets, # train targets\n",
    "          batch_size=batch_size, # batch size\n",
    "          epochs=max_epochs, # epochs that we will train for (assuming early stopping doesn't kick in)\n",
    "          validation_data=(validation_inputs, validation_targets), # validation data\n",
    "          verbose = 2 # making sure we get enough information about the training process\n",
    "          )  "
   ]
  },
  {
   "cell_type": "code",
   "execution_count": null,
   "metadata": {},
   "outputs": [],
   "source": []
  }
 ],
 "metadata": {
  "kernelspec": {
   "display_name": "Python [conda env:py3-TF2.0]",
   "language": "python",
   "name": "conda-env-py3-TF2.0-py"
  },
  "language_info": {
   "codemirror_mode": {
    "name": "ipython",
    "version": 3
   },
   "file_extension": ".py",
   "mimetype": "text/x-python",
   "name": "python",
   "nbconvert_exporter": "python",
   "pygments_lexer": "ipython3",
   "version": "3.7.7"
  }
 },
 "nbformat": 4,
 "nbformat_minor": 2
}
